{
 "cells": [
  {
   "cell_type": "code",
   "execution_count": null,
   "id": "c1a7910c",
   "metadata": {
    "lines_to_next_cell": 2
   },
   "outputs": [],
   "source": [
    "import tensorflow as tf\n",
    "from keras import models, layers\n",
    "import matplotlib.pyplot as plt\n",
    "import numpy as np"
   ]
  },
  {
   "cell_type": "markdown",
   "id": "9fbd1eb5",
   "metadata": {},
   "source": [
    "Makra pro vyuziti v modelu"
   ]
  },
  {
   "cell_type": "code",
   "execution_count": null,
   "id": "9503fb69",
   "metadata": {},
   "outputs": [],
   "source": [
    "IMAGE_SIZE = 256\n",
    "BATCH_SIZE = 64\n",
    "CHANNELS = 3    #RGB \n",
    "EPOCHS = 10"
   ]
  },
  {
   "cell_type": "markdown",
   "id": "1dbbee3c",
   "metadata": {},
   "source": [
    "Nacte dataset\n"
   ]
  },
  {
   "cell_type": "code",
   "execution_count": null,
   "id": "14f4d417",
   "metadata": {},
   "outputs": [],
   "source": [
    "dataset = tf.keras.preprocessing.image_dataset_from_directory(\n",
    "    \"dataset\",\n",
    "    shuffle=True,   #mix the input pictures\n",
    "    image_size = (IMAGE_SIZE,IMAGE_SIZE),\n",
    "    batch_size = BATCH_SIZE\n",
    ")"
   ]
  },
  {
   "cell_type": "markdown",
   "id": "e71f75c4",
   "metadata": {},
   "source": [
    "Nacteni jmen vsech class a ukazka 12ti obrazku z nacteneho datasetu s jejich popiskem"
   ]
  },
  {
   "cell_type": "code",
   "execution_count": null,
   "id": "5bfa70d0",
   "metadata": {},
   "outputs": [],
   "source": [
    "class_names = dataset.class_names\n",
    "\n",
    "def print_elements_from_dataset(dataset, class_names, FIG_SIZE=15):\n",
    "    print(class_names)\n",
    "    plt.figure(figsize=(FIG_SIZE,FIG_SIZE))\n",
    "    for image_batch, label_batch in dataset.take(1):\n",
    "        for i in  range(12) :\n",
    "            plt.subplot(3,4,i+1)\n",
    "            plt.imshow(image_batch[i].numpy().astype(\"uint8\"))\n",
    "            plt.title(class_names[label_batch[i]])\n",
    "            plt.axis(\"off\")\n",
    "            \n",
    "print_elements_from_dataset(dataset, class_names)"
   ]
  },
  {
   "cell_type": "markdown",
   "id": "306cc305",
   "metadata": {},
   "source": [
    "Rozdel dataset na partitions \n",
    "prevzato z internetu"
   ]
  },
  {
   "cell_type": "code",
   "execution_count": null,
   "id": "dde9dc8c",
   "metadata": {},
   "outputs": [],
   "source": [
    "def get_partitions_of_dataset(dataset, train_split=0.8, val_split = 0.1, shuffle=True, shuffle_size=10000):\n",
    "    \n",
    "    dataset_size = len(dataset)\n",
    "    #nevim jestli zase shuffle kdyz uz byl pouzit vyse\n",
    "    if shuffle:\n",
    "        dataset = dataset.shuffle(shuffle_size, seed=12)\n",
    "\n",
    "    train_size = int(train_split*dataset_size)\n",
    "    val_size = int(val_split*dataset_size)\n",
    "\n",
    "    train_ds = dataset.take(train_size)\n",
    "\n",
    "    val_ds = dataset.skip(train_size).take(val_size)\n",
    "\n",
    "    test_ds = dataset.skip(train_size+val_size)\n",
    "\n",
    "    return train_ds, val_ds, test_ds\n",
    "\n",
    "train_ds , val_ds, test_ds = get_partitions_of_dataset(dataset)\n",
    "len(train_ds)"
   ]
  },
  {
   "cell_type": "markdown",
   "id": "c551ce7b",
   "metadata": {},
   "source": [
    "Layers for the actuall model\n",
    "efektivita modelu, cache - nactena data jsou v mezipameti, shuffle - michani podle dane velikosti, prefetch - asynchrnni nacitani do pametti"
   ]
  },
  {
   "cell_type": "code",
   "execution_count": null,
   "id": "7248f27e",
   "metadata": {
    "lines_to_next_cell": 2
   },
   "outputs": [],
   "source": [
    "#efektivita modelu, cache - nactena data jsou v mezipameti, shuffle - michani podle dane velikosti, prefetch - asynchrnni nacitani do pametti\n",
    "train_ds = train_ds.cache().shuffle(1000).prefetch(buffer_size = tf.data.AUTOTUNE)\n",
    "val_ds = val_ds.cache().shuffle(1000).prefetch(buffer_size = tf.data.AUTOTUNE)\n",
    "test_ds = test_ds.cache().shuffle(1000).prefetch(buffer_size = tf.data.AUTOTUNE)"
   ]
  },
  {
   "cell_type": "markdown",
   "id": "7c6c729e",
   "metadata": {},
   "source": [
    "Otazka jestli ma smysl delat u tohoto datasetu, resize a rescale \n",
    "\n",
    "Proc delat resizing kdyz uz bylo udelano pri nacitani datasetu\n"
   ]
  },
  {
   "cell_type": "code",
   "execution_count": null,
   "id": "096381b9",
   "metadata": {},
   "outputs": [],
   "source": [
    "resize_and_rescale = tf.keras.Sequential([\n",
    "    layers.experimental.preprocessing.Resizing(IMAGE_SIZE, IMAGE_SIZE),\n",
    "    layers.experimental.preprocessing.Rescaling(1.0/255)\n",
    "])"
   ]
  },
  {
   "cell_type": "markdown",
   "id": "aefee52c",
   "metadata": {},
   "source": [
    "Nevyuziji z duvodu velikosti dat, zkusime pri dalsim treninkk, jak to ovlivni vysledek\n",
    "\n",
    "0.3 - o kolik se natoci \n"
   ]
  },
  {
   "cell_type": "code",
   "execution_count": null,
   "id": "64de77a9",
   "metadata": {},
   "outputs": [],
   "source": [
    "data_augmentation = tf.keras.Sequential([\n",
    "    layers.experimental.preprocessing.RandomRotation(0.3),\n",
    "    layers.experimental.preprocessing.RandomFlip(\"horizontal_and_vertical\"),\n",
    "])"
   ]
  },
  {
   "cell_type": "code",
   "execution_count": null,
   "id": "ca2da564",
   "metadata": {
    "lines_to_next_cell": 1
   },
   "outputs": [],
   "source": [
    "input_shape = (BATCH_SIZE, IMAGE_SIZE, IMAGE_SIZE, CHANNELS)\n",
    "\n",
    "n_classes = len(class_names)\n",
    "\n",
    "model = models.Sequential([\n",
    "    resize_and_rescale,\n",
    "    #data_augmentation,\n",
    "    layers.Conv2D(32, (3,3), activation=\"relu\", input_shape = input_shape),   # Conv2D(number of filters (trial and error), )\n",
    "    layers.MaxPooling2D((2, 2)),\n",
    "    layers.Conv2D(64, kernel_size= (3, 3), activation='relu'),\n",
    "    layers.MaxPooling2D((2, 2)),\n",
    "    layers.Conv2D(64, kernel_size= (3, 3), activation='relu'),\n",
    "    layers.MaxPooling2D((2, 2)),\n",
    "    layers.Conv2D(64, (3, 3), activation='relu'),\n",
    "    layers.MaxPooling2D((2, 2)),\n",
    "    layers.Conv2D(64, (3, 3), activation='relu'),\n",
    "    layers.MaxPooling2D((2, 2)),\n",
    "    layers.Conv2D(64, (3, 3), activation='relu'),\n",
    "    layers.MaxPooling2D((2, 2)),\n",
    "    layers.Flatten(),\n",
    "    layers.Dense (64, activation='relu'),\n",
    "    layers.Dense(n_classes, activation='softmax'),\n",
    "])\n",
    "model.build(input_shape=input_shape)"
   ]
  },
  {
   "cell_type": "markdown",
   "id": "b898fe20",
   "metadata": {},
   "source": [
    "Ukazka upravenych obrazku, momentalne nevyuzite, protoze ji nevyuzivam v modelu vyse"
   ]
  },
  {
   "cell_type": "code",
   "execution_count": null,
   "id": "69d09271",
   "metadata": {},
   "outputs": [],
   "source": [
    "\n",
    "# Funkce pro zobrazení několika obrázků z datasetu\n",
    "def show_augmented_images(dataset, num_images=16):\n",
    "\n",
    "    # Vytvoření iteratoru pro získání dat z datasetu\n",
    "    iterator = iter(dataset)\n",
    "    \n",
    "    # Načtení několika obrázků z datasetu\n",
    "    images = next(iterator)[0][:num_images]\n",
    "\n",
    "    # Vytvoření obrázků před a po augmentaci\n",
    "    original_images = resize_and_rescale(images)\n",
    "    augmented_images = data_augmentation(original_images)\n",
    "\n",
    "    # Zobrazení obrázků\n",
    "    for i in range(num_images//2):\n",
    "        \n",
    "        plt.figure(figsize=(12, 3))\n",
    "\n",
    "        plt.subplot(1, 4, 1)\n",
    "        plt.imshow(original_images[2*i])\n",
    "        plt.title(\"Original Image\")\n",
    "\n",
    "        plt.subplot(1, 4, 2)\n",
    "        plt.imshow(augmented_images[2*i])\n",
    "        plt.title(\"Augmented Image\")\n",
    "\n",
    "        plt.subplot(1, 4, 3)\n",
    "        plt.imshow(original_images[2*i+1])\n",
    "        plt.title(\"Original Image\")\n",
    "\n",
    "        plt.subplot(1, 4, 4)\n",
    "        plt.imshow(augmented_images[2*i + 1])\n",
    "        plt.title(\"Augmented Image\")\n",
    "\n",
    "        plt.show()\n",
    "\n",
    "# Zavolání funkce pro zobrazení 16 augmentovaných obrázků (pro jiny pocett stejne nebude fungovat)\n",
    "show_augmented_images(train_ds)"
   ]
  },
  {
   "cell_type": "code",
   "execution_count": null,
   "id": "0bdf00cd",
   "metadata": {},
   "outputs": [],
   "source": [
    "model.summary()"
   ]
  },
  {
   "cell_type": "markdown",
   "id": "96e8e25b",
   "metadata": {},
   "source": [
    "Testovano na nasledujici dvojice:\n",
    "adam + SparseCategoricalCrossentropy"
   ]
  },
  {
   "cell_type": "code",
   "execution_count": null,
   "id": "961f57be",
   "metadata": {},
   "outputs": [],
   "source": [
    "model.compile(\n",
    "    optimizer='adam',\n",
    "    loss=tf.keras.losses.SparseCategoricalCrossentropy(from_logits=False),\n",
    "    metrics=['accuracy']\n",
    ")"
   ]
  },
  {
   "cell_type": "markdown",
   "id": "fd654b95",
   "metadata": {},
   "source": [
    "Samotny trenink nad train_datasetem (train_ds)\n",
    "verbose=1 - idealni vypis behem treninku (0 - nic, 2- jen cisla)"
   ]
  },
  {
   "cell_type": "code",
   "execution_count": null,
   "id": "e257e8aa",
   "metadata": {},
   "outputs": [],
   "source": [
    "history = model.fit(\n",
    "    train_ds,\n",
    "    epochs=EPOCHS,\n",
    "    batch_size=BATCH_SIZE,\n",
    "    verbose = 1,\n",
    "    validation_data=val_ds\n",
    ")"
   ]
  },
  {
   "cell_type": "markdown",
   "id": "baf4a936",
   "metadata": {},
   "source": [
    "Over na testovaci sade presnost pro dany dataset"
   ]
  },
  {
   "cell_type": "code",
   "execution_count": null,
   "id": "e22654f8",
   "metadata": {},
   "outputs": [],
   "source": [
    "scores = model.evaluate(test_ds)"
   ]
  },
  {
   "cell_type": "markdown",
   "id": "c345143f",
   "metadata": {},
   "source": [
    "Zobrazneni jednotlivzch konvolucnich vrstvev modelu"
   ]
  },
  {
   "cell_type": "code",
   "execution_count": null,
   "id": "5fc155da",
   "metadata": {},
   "outputs": [],
   "source": [
    "#ZDROJ: https://www.kaggle.com/code/arpitjain007/guide-to-visualize-filters-and-feature-maps-in-cnn\n",
    "\n",
    "for layer in model.layers:\n",
    "    \n",
    "    if 'conv' not in layer.name:\n",
    "        continue    \n",
    "    filters , bias = layer.get_weights()\n",
    "    print(layer.name , filters.shape)\n",
    "\n",
    "# retrieve weights from the second hidden layer\n",
    "# first 2 isnt from \n",
    "filters , bias = model.layers[2].get_weights()\n",
    "\n",
    "# normalize filter values to 0-1 so we can visualize them\n",
    "f_min, f_max = filters.min(), filters.max()\n",
    "filters = (filters - f_min) / (f_max - f_min)\n",
    "\n",
    "n_filters =6\n",
    "ix=1\n",
    "fig = plt.figure(figsize=(20,15))\n",
    "for i in range(n_filters):\n",
    "    # get the filters\n",
    "    f = filters[:,:,:,i]\n",
    "    for j in range(3):\n",
    "        # subplot for 6 filters and 3 channels\n",
    "        plt.subplot(n_filters,3,ix)\n",
    "        plt.imshow(f[:,:,j] ,cmap='gray')\n",
    "        ix+=1\n",
    "#plot the filters \n",
    "plt.show()"
   ]
  },
  {
   "cell_type": "markdown",
   "id": "ad568037",
   "metadata": {},
   "source": [
    "Zobrazeni Konvolucnich vrstev (manualne vyber)"
   ]
  },
  {
   "cell_type": "code",
   "execution_count": null,
   "id": "4d14882b",
   "metadata": {},
   "outputs": [],
   "source": [
    "model.summary()\n",
    "\n",
    "# Vyber zkoumanou vrstvu\n",
    "selected_layer = model.get_layer('conv2d_1')\n",
    "\n",
    "# Získání váh vrstvy\n",
    "weights, biases = selected_layer.get_weights()\n",
    "\n",
    "# Výpis váh vrstvy\n",
    "print(\"Váhy vrstvy:\", weights)\n",
    "\n",
    "# Vytvoření nového modelu obsahujícího pouze vybranou vrstvu\n",
    "visualization_model = models.Model(inputs=model.input, outputs=selected_layer.output)\n",
    "\n",
    "# Zobrazit architekturu modelu\n",
    "visualization_model.summary()\n",
    "\n",
    "# Příprava vzorku dat pro vizualizaci (nahradit tímto přípravou vašich vlastních dat)\n",
    "sample_data = tf.random.normal(shape=(1, 127, 127, 32))\n",
    "\n",
    "# Získání výstupu vybrané vrstvy pro vzorek dat\n",
    "activations = visualization_model.predict(sample_data)\n",
    "\n",
    "# Výpis tvaru aktivačních map\n",
    "print(\"Tvar aktivačních map:\", activations.shape)\n",
    "\n",
    "# Zobrazit prvních 16 aktivačních map\n",
    "for i in range(16):\n",
    "    plt.subplot(4, 4, i + 1)\n",
    "    plt.imshow(activations[0, :, :, i], cmap='viridis')\n",
    "    plt.axis('off')\n",
    "\n",
    "plt.show()"
   ]
  },
  {
   "cell_type": "markdown",
   "id": "01b35660",
   "metadata": {},
   "source": [
    "Ziskani dat z historie treninku pro zobrazeni grafu"
   ]
  },
  {
   "cell_type": "code",
   "execution_count": null,
   "id": "dc9ebeb7",
   "metadata": {},
   "outputs": [],
   "source": [
    "history.history.keys()"
   ]
  },
  {
   "cell_type": "code",
   "execution_count": null,
   "id": "2328b96b",
   "metadata": {},
   "outputs": [],
   "source": [
    "acc = history.history['accuracy']\n",
    "val_acc = history.history['val_accuracy']\n",
    "\n",
    "loss = history.history['loss']\n",
    "val_loss = history.history['val_loss']"
   ]
  },
  {
   "cell_type": "markdown",
   "id": "0c4b7e7c",
   "metadata": {},
   "source": [
    "Zobrazeni grafu loss funkci a presnosti pro trenink i validacni data k jednotlivym epocham treninku"
   ]
  },
  {
   "cell_type": "code",
   "execution_count": null,
   "id": "e3f4e227",
   "metadata": {},
   "outputs": [],
   "source": [
    "#plt.figure(1)\n",
    "figure, axis = plt.subplots(1,2)\n",
    "axis[0].plot(range(EPOCHS), loss, label='Training loss')\n",
    "axis[0].plot(range(EPOCHS), val_loss, label='Validation loss')\n",
    "axis[0].legend(loc='lower right')\n",
    "axis[0].set_title('Loss function')\n",
    "\n",
    "#plt.figure(2)\n",
    "#plt.subplot(1,2,1)\n",
    "axis[1].plot(range(EPOCHS), acc, label='Training Accuracy')\n",
    "axis[1].plot(range(EPOCHS), val_acc, label='Validation Acc')\n",
    "axis[1].legend(loc='lower right')\n",
    "axis[1].set_title('Accuracy')\n",
    "#plt.show"
   ]
  },
  {
   "cell_type": "markdown",
   "id": "f51679b6",
   "metadata": {},
   "source": [
    "Zobrazeni skutecneho a odhadovaneho labelu pro 1 testovaci sadu"
   ]
  },
  {
   "cell_type": "code",
   "execution_count": null,
   "id": "b579d3de",
   "metadata": {
    "lines_to_next_cell": 1
   },
   "outputs": [],
   "source": [
    "for images_batch, label_batch in test_ds.take(1):\n",
    "    first_image = (images_batch[0].numpy().astype('uint8'))\n",
    "    first_label = label_batch[0].numpy().astype('uint8')\n",
    "\n",
    "    print(\"actual label:\", class_names[first_label])\n",
    "    print(\"predicted label:\", model.predict(images_batch)[0])"
   ]
  },
  {
   "cell_type": "markdown",
   "id": "7e85af60",
   "metadata": {},
   "source": [
    "Tohle nerozumim, proc funguje s tim img, pozjisuji a vztvorim svoje vlastni implementaci, zdroj: temna zakouti internetu - nepouzitelne"
   ]
  },
  {
   "cell_type": "code",
   "execution_count": null,
   "id": "e1b9c5bf",
   "metadata": {
    "lines_to_next_cell": 1
   },
   "outputs": [],
   "source": [
    "def predict(model, img):    #proc je zde argument img a nize se pouzije images nechapem\n",
    "    img_array = tf.keras.preprocessing.image.img_to_array(images[i].numpy())\n",
    "    img_array = tf.expand_dims(img_array, 0) #create a batch\n",
    "\n",
    "    predictions = model.predict(img_array)\n",
    "\n",
    "    predicted_class = class_names[np.argmax(predictions[0])]\n",
    "    confidence = round(100*(np.max(predictions[0])), 2)\n",
    "    return predicted_class, confidence"
   ]
  },
  {
   "cell_type": "code",
   "execution_count": null,
   "id": "ba08cc6f",
   "metadata": {},
   "outputs": [],
   "source": [
    "plt.figure(figsize=[15, 15])\n",
    "for images, labels in test_ds.take(1):\n",
    "    for i in range(9):\n",
    "        ax = plt.subplot(3,3,i+1)\n",
    "        plt.imshow(images[i].numpy().astype(\"uint8\"))\n",
    "        predicted_class, confidence = predict(model, images[i].numpy())\n",
    "        actual_class = class_names[labels[i].numpy().astype('uint8')]\n",
    "        print(predicted_class)\n",
    "        print(confidence)\n",
    "        print(actual_class)\n",
    "        plt.title(f\"Actual_class: {actual_class}\\n Predicted_class: {predicted_class}\\n Confidence: {confidence}\")\n",
    "        plt.axis(\"off\")"
   ]
  },
  {
   "cell_type": "markdown",
   "id": "ce83b387",
   "metadata": {},
   "source": [
    "Ficurka pro automaticke ukladani modelu po spusteni teto bunky\n",
    "TODO: jak to potom pouzit :D"
   ]
  },
  {
   "cell_type": "code",
   "execution_count": null,
   "id": "e5f481a1",
   "metadata": {
    "lines_to_next_cell": 3
   },
   "outputs": [],
   "source": [
    "#autosave new version\n",
    "import os\n",
    "model_version = max([int(i) for i in os.listdir(\"../models\") + [0]]) +1\n",
    "model.save(f\"../models/{model_version}\")"
   ]
  }
 ],
 "metadata": {
  "jupytext": {
   "cell_metadata_filter": "-all",
   "main_language": "python",
   "notebook_metadata_filter": "-all"
  },
  "kernelspec": {
   "display_name": "Python 3",
   "language": "python",
   "name": "python3"
  },
  "language_info": {
   "codemirror_mode": {
    "name": "ipython",
    "version": 3
   },
   "file_extension": ".py",
   "mimetype": "text/x-python",
   "name": "python",
   "nbconvert_exporter": "python",
   "pygments_lexer": "ipython3",
   "version": "3.10.12"
  }
 },
 "nbformat": 4,
 "nbformat_minor": 5
}
